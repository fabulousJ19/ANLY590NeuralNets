{
 "cells": [
  {
   "cell_type": "markdown",
   "metadata": {},
   "source": [
    "Jingjie Ma   \n",
    "ANLY 590 HW 1   \n",
    "jm3292"
   ]
  },
  {
   "cell_type": "markdown",
   "metadata": {},
   "source": [
    "### Problem 1"
   ]
  },
  {
   "cell_type": "code",
   "execution_count": 66,
   "metadata": {},
   "outputs": [],
   "source": [
    "%matplotlib inline\n",
    "import pandas as pd\n",
    "import numpy as np\n",
    "import matplotlib.pyplot as plt\n",
    "from sklearn.preprocessing import scale\n",
    "from sklearn.linear_model import Lasso, LassoCV, Ridge, RidgeCV\n",
    "from sklearn.model_selection import cross_validate\n",
    "from sklearn.model_selection import train_test_split\n",
    "from sklearn.metrics import mean_squared_error"
   ]
  },
  {
   "cell_type": "code",
   "execution_count": 67,
   "metadata": {},
   "outputs": [
    {
     "name": "stdout",
     "output_type": "stream",
     "text": [
      "Index(['Unnamed: 0', 'AtBat', 'Hits', 'HmRun', 'Runs', 'RBI', 'Walks', 'Years',\n",
      "       'CAtBat', 'CHits', 'CHmRun', 'CRuns', 'CRBI', 'CWalks', 'League',\n",
      "       'Division', 'PutOuts', 'Assists', 'Errors', 'Salary', 'NewLeague'],\n",
      "      dtype='object')\n"
     ]
    }
   ],
   "source": [
    "# read in the data\n",
    "data = pd.read_csv(\"Hitters.csv\")\n",
    "# drop na in the dataset\n",
    "data = data.dropna()\n",
    "print(data.columns)"
   ]
  },
  {
   "cell_type": "code",
   "execution_count": 68,
   "metadata": {},
   "outputs": [
    {
     "name": "stdout",
     "output_type": "stream",
     "text": [
      "   AtBat   Hits  HmRun  Runs   RBI  Walks  Years  CAtBat   CHits  CHmRun  \\\n",
      "1  315.0   81.0    7.0  24.0  38.0   39.0   14.0  3449.0   835.0    69.0   \n",
      "2  479.0  130.0   18.0  66.0  72.0   76.0    3.0  1624.0   457.0    63.0   \n",
      "3  496.0  141.0   20.0  65.0  78.0   37.0   11.0  5628.0  1575.0   225.0   \n",
      "4  321.0   87.0   10.0  39.0  42.0   30.0    2.0   396.0   101.0    12.0   \n",
      "5  594.0  169.0    4.0  74.0  51.0   35.0   11.0  4408.0  1133.0    19.0   \n",
      "\n",
      "   CRuns   CRBI  CWalks  PutOuts  Assists  Errors  League_N  Division_W  \\\n",
      "1  321.0  414.0   375.0    632.0     43.0    10.0         1           1   \n",
      "2  224.0  266.0   263.0    880.0     82.0    14.0         0           1   \n",
      "3  828.0  838.0   354.0    200.0     11.0     3.0         1           0   \n",
      "4   48.0   46.0    33.0    805.0     40.0     4.0         1           0   \n",
      "5  501.0  336.0   194.0    282.0    421.0    25.0         0           1   \n",
      "\n",
      "   NewLeague_N  \n",
      "1            1  \n",
      "2            0  \n",
      "3            1  \n",
      "4            1  \n",
      "5            0  \n"
     ]
    }
   ],
   "source": [
    "# define y as the salary\n",
    "y = data.Salary\n",
    "# first drop the name column, which is irrelavant\n",
    "# then drop the salary column and all categorical variables\n",
    "X_ = data.drop(['Unnamed: 0','Salary', 'League', 'Division', 'NewLeague'], axis=1).astype('float64')\n",
    "# Define the predictors\n",
    "dummies = pd.get_dummies(data[['League', 'Division', 'NewLeague']])\n",
    "# define those categorical variables as dummy variables for regression purposes\n",
    "X = pd.concat([X_, dummies[['League_N', 'Division_W', 'NewLeague_N']]], axis=1)\n",
    "print(X.head())"
   ]
  },
  {
   "cell_type": "code",
   "execution_count": 69,
   "metadata": {},
   "outputs": [],
   "source": [
    "# define alphas\n",
    "alphas = 10**np.linspace(6,-2,50)*0.5"
   ]
  },
  {
   "cell_type": "code",
   "execution_count": 70,
   "metadata": {},
   "outputs": [
    {
     "data": {
      "text/plain": [
       "(50, 19)"
      ]
     },
     "execution_count": 70,
     "metadata": {},
     "output_type": "execute_result"
    }
   ],
   "source": [
    "# fit the lasso model for each alpha\n",
    "lasso = Lasso(max_iter=10000, normalize=True)\n",
    "coefs = []\n",
    "\n",
    "for a in alphas:\n",
    "    lasso.set_params(alpha=a)\n",
    "    lasso.fit(X, y)\n",
    "    coefs.append(lasso.coef_)\n",
    "    "
   ]
  },
  {
   "cell_type": "code",
   "execution_count": 71,
   "metadata": {},
   "outputs": [
    {
     "data": {
      "text/plain": [
       "Text(0, 0.5, 'weights')"
      ]
     },
     "execution_count": 71,
     "metadata": {},
     "output_type": "execute_result"
    },
    {
     "data": {
      "image/png": "[encoded data removed]",
      "text/plain": [
       "<Figure size 432x288 with 1 Axes>"
      ]
     },
     "metadata": {
      "needs_background": "light"
     },
     "output_type": "display_data"
    }
   ],
   "source": [
    "x_plot = plt.gca()\n",
    "x_plot.plot(alphas, coefs)\n",
    "# Since alphas varies in magnitude, use log of alpha to show the graph\n",
    "x_plot.set_xscale('log')\n",
    "plt.xlabel('alpha')\n",
    "plt.ylabel('weights')"
   ]
  },
  {
   "cell_type": "code",
   "execution_count": 73,
   "metadata": {},
   "outputs": [
    {
     "name": "stdout",
     "output_type": "stream",
     "text": [
      "Optimal value of the regularization penality is  2.3327311765926555\n",
      "Optimal MSE is  132568.611898037\n",
      "Coefficients in the optimal model\n"
     ]
    },
    {
     "data": {
      "text/plain": [
       "AtBat           0.000000\n",
       "Hits            2.319431\n",
       "HmRun           0.000000\n",
       "Runs            0.000000\n",
       "RBI             0.000000\n",
       "Walks           1.312234\n",
       "Years           0.000000\n",
       "CAtBat          0.000000\n",
       "CHits           0.000000\n",
       "CHmRun          0.000000\n",
       "CRuns           0.378674\n",
       "CRBI            0.289648\n",
       "CWalks          0.000000\n",
       "PutOuts         0.049478\n",
       "Assists        -0.000000\n",
       "Errors          0.000000\n",
       "League_N       18.238258\n",
       "Division_W    -70.030558\n",
       "NewLeague_N     0.000000\n",
       "dtype: float64"
      ]
     },
     "execution_count": 73,
     "metadata": {},
     "output_type": "execute_result"
    }
   ],
   "source": [
    "# using 40% data as testing set\n",
    "X_train, X_test, y_train, y_test = train_test_split(X, y, test_size=0.4, random_state=10)\n",
    "# use 10-fold cross validation\n",
    "lassocv = LassoCV(alphas=None, cv=10, max_iter=100000, normalize=True)\n",
    "lassocv.fit(X_train, y_train)\n",
    "# set a set of penality\n",
    "lasso.set_params(alpha=lassocv.alpha_)\n",
    "print(\"Optimal value of the regularization penality is \", lassocv.alpha_)\n",
    "lasso.fit(X_train, y_train)\n",
    "# get the least mse\n",
    "print(\"Optimal MSE is \",mean_squared_error(y_test, lasso.predict(X_test)))\n",
    "print(\"Coefficients in the optimal model\")\n",
    "pd.Series(lasso.coef_, index=X.columns)"
   ]
  },
  {
   "cell_type": "markdown",
   "metadata": {},
   "source": [
    "The optimal value of the regularization penality is 2.3327311765926555\n",
    "There are only 7 variables left in the model.    \n",
    "Ultimately, the final three varaibles will be Division, league, and hits. "
   ]
  },
  {
   "cell_type": "code",
   "execution_count": null,
   "metadata": {},
   "outputs": [],
   "source": [
    "# Visualize coeffecient trajectories of the ridge regression\n",
    "ridge = Ridge(max_iter=10000, normalize=True)\n",
    "coefs = []\n",
    "\n",
    "for a in alphas:\n",
    "    ridge.set_params(alpha=a)\n",
    "    ridge.fit(X, y)\n",
    "    coefs.append(ridge.coef_)\n",
    "    \n"
   ]
  },
  {
   "cell_type": "code",
   "execution_count": 78,
   "metadata": {},
   "outputs": [
    {
     "data": {
      "text/plain": [
       "Text(0, 0.5, 'weights')"
      ]
     },
     "execution_count": 78,
     "metadata": {},
     "output_type": "execute_result"
    },
    {
     "data": {
      "image/png": "[encoded data removed]",
      "text/plain": [
       "<Figure size 432x288 with 1 Axes>"
      ]
     },
     "metadata": {
      "needs_background": "light"
     },
     "output_type": "display_data"
    }
   ],
   "source": [
    "x_plot = plt.gca()\n",
    "x_plot.plot(alphas, coefs)\n",
    "# Since alphas varies in magnitude, use log of alpha to show the graph\n",
    "x_plot.set_xscale('log')\n",
    "plt.xlabel('alpha')\n",
    "plt.ylabel('weights')"
   ]
  },
  {
   "cell_type": "code",
   "execution_count": 75,
   "metadata": {},
   "outputs": [
    {
     "name": "stdout",
     "output_type": "stream",
     "text": [
      "The optimal value of the regularization penality is  0.6628556827950555\n",
      "Optimal MSE is  133945.09640067484\n",
      "Coefficients in the optimal model\n"
     ]
    },
    {
     "data": {
      "text/plain": [
       "AtBat           0.147874\n",
       "Hits            0.965208\n",
       "HmRun          -0.561076\n",
       "Runs            1.376327\n",
       "RBI             0.699032\n",
       "Walks           1.373229\n",
       "Years           4.483471\n",
       "CAtBat          0.015858\n",
       "CHits           0.064186\n",
       "CHmRun          0.404260\n",
       "CRuns           0.130766\n",
       "CRBI            0.125603\n",
       "CWalks          0.035318\n",
       "PutOuts         0.084546\n",
       "Assists         0.006060\n",
       "Errors          0.239744\n",
       "League_N       49.954945\n",
       "Division_W    -77.176949\n",
       "NewLeague_N     1.539782\n",
       "dtype: float64"
      ]
     },
     "execution_count": 75,
     "metadata": {},
     "output_type": "execute_result"
    }
   ],
   "source": [
    "# fit the ridge regression\n",
    "ridgecv = RidgeCV(alphas=alphas, normalize=True)\n",
    "ridgecv.fit(X_train, y_train)\n",
    "# get the optimal value of the regularization penality\n",
    "print(\"The optimal value of the regularization penality is \", ridgecv.alpha_)\n",
    "ridge_mod = Ridge(alpha=ridgecv.alpha_, normalize=True)\n",
    "ridge_mod.fit(X_train, y_train)\n",
    "# get the mse\n",
    "print(\"Optimal MSE is \",mean_squared_error(y_test, ridge_mod.predict(X_test)))\n",
    "print(\"Coefficients in the optimal model\")\n",
    "pd.Series(ridge_mod.coef_, index=X.columns)"
   ]
  },
  {
   "cell_type": "markdown",
   "metadata": {},
   "source": [
    "The optimal value of the regularization penality is  0.6628556827950555"
   ]
  },
  {
   "cell_type": "markdown",
   "metadata": {},
   "source": [
    "### Problem 2"
   ]
  },
  {
   "cell_type": "markdown",
   "metadata": {},
   "source": [
    "The goal of fitting machine learning problems is to find a model that both captures important relationship between predictors and the response as well as being generalizable to the testing set. The bias variance tradeoff basically states that it is impossible to minimize two types or error, namely, bias and variance, in the same time. A model with higher variance will produce lower MSE in the training set but may suffer from overfitting. However, a high bias model could be too simple to capture useful relationship between the response and the predictors.    \n",
    "\n",
    "Both the lasso regression and the ridge regression are helpful when there are a large number of predictors and some of them might not be linearly independent. These two methods will penalize variables with large coefficient in order to avoid overfitting the data by trading off an increase in bias with a decrease in variance. However, the lasso regression will shrink certain coefficients to to eliminate them from the final model but ridge will shrink some coefficients close to zero to reduce their impact on the model.   \n",
    "\n",
    "As we can see in problem 1, when the penality value is relatively smaller, the coefficients are larger in absoulte value. In this case, the variance of the model is relatively higher because overfitting is possible. When the penality value is relatively larger, some coefficients shrink to zero in the lasso case and some coefficient are approaching zero in the ridge case. The bias is relatively higher because the model is simpler and could underfit the testing set. "
   ]
  }
 ],
 "metadata": {
  "kernelspec": {
   "display_name": "Python 3",
   "language": "python",
   "name": "python3"
  },
  "language_info": {
   "codemirror_mode": {
    "name": "ipython",
    "version": 3
   },
   "file_extension": ".py",
   "mimetype": "text/x-python",
   "name": "python",
   "nbconvert_exporter": "python",
   "pygments_lexer": "ipython3",
   "version": "3.8.3"
  }
 },
 "nbformat": 4,
 "nbformat_minor": 4
}
